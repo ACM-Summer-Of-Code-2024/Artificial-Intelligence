{
  "cells": [
    {
      "cell_type": "markdown",
      "id": "d9a3e7f9",
      "metadata": {
        "id": "d9a3e7f9"
      },
      "source": [
        "   \n",
        "<div style=\"background-image: linear-gradient(to left, rgb(255, 255, 255), rgb(138, 136, 136)); width: auto; margin: 10px;\">\n",
        "  <img src=\"https://upload.wikimedia.org/wikipedia/en/thumb/f/fd/University_of_Tehran_logo.svg/225px-University_of_Tehran_logo.svg.png\" width=100px width=auto style=\"padding:10px; vertical-align: center;\">\n",
        "\n",
        "</div>\n",
        "   \n",
        "<div   style:\"text-align: center; background-image: linear-gradient(to left, rgb(255, 255, 255), rgb( 219, 204, 245  ));width: 400px; height: 30px; \">\n",
        "<h1 style=\"font-family: Georgia; color: black; text-align: center; \">SOC AI Course </h1>\n",
        "\n",
        "</div>\n",
        "    <div   style:\"border: 3px solid green;text-align: center; \">\n",
        "<h1 style=\"font-family: Georgia; color: black; text-align: center; \">Week2- Bonus</h1>\n",
        "<h5 style=\"font-family: Georgia; color: black; text-align: center; \">Designer: <a href=\"mailto:mohammadamanlou2@gmail.com\">Mohammad Amanlou</a>, <a href=\"mailto:mzmousavi9@gmail.com\">Marziyeh Mousavi</a></h5>\n",
        "</div>\n",
        "\n",
        "\n",
        "\n",
        "   </html>"
      ]
    },
    {
      "cell_type": "markdown",
      "id": "b49f5f66",
      "metadata": {
        "id": "b49f5f66"
      },
      "source": [
        "## Introduction\n",
        "\n",
        "In this assignment, you will explore various loss functions and apply gradient descent methods to optimize these functions. The focus will be on the Diabetes dataset from the scikit-learn library, a well-known dataset in the machine learning community. This dataset consists of medical diagnostic measurements from numerous patients and is specifically designed to study diabetes progression. You will use these data points to predict the quantitative measure of disease progression one year after baseline, allowing you to practice regression analysis in a medical context.\n",
        "\n",
        "### Important Notes\n",
        "\n",
        "For this assignment, you are required to implement the functions in \"Part 1: Functions’ Implementation\" from scratch. The use of pre-built libraries such as PyTorch, TensorFlow, or similar for these specific tasks is prohibited.\n",
        "\n",
        "### Dataset Description\n",
        "\n",
        "The diabetes dataset consists of 442 instances with the following ten baseline variables:\n",
        "\n",
        "1. **Age**: Age in years\n",
        "2. **Sex**: Gender of the patient\n",
        "3. **Body Mass Index (BMI)**: A measure of body fat based on height and weight\n",
        "4. **Average Blood Pressure (BP)**: Mean blood pressure value\n",
        "5. **Six blood serum measurements**:\n",
        "   - **s1**: Total serum cholesterol (tc)\n",
        "   - **s2**: Low-density lipoproteins (ldl)\n",
        "   - **s3**: High-density lipoproteins (hdl)\n",
        "   - **s4**: Total cholesterol / HDL ratio (tch)\n",
        "   - **s5**: Possibly the logarithm of serum triglycerides level (ltg)\n",
        "   - **s6**: Blood sugar level (glu)\n",
        "\n",
        "The target variable is a quantitative measure of disease progression one year after baseline.\n",
        "\n",
        "### Warm-Up\n",
        "\n",
        "1. **Load the Diabetes Dataset**: Load the dataset provided by scikit-learn (scaled=False) or directly via a provided link.(https://www4.stat.ncsu.edu/~boos/var.select/diabetes.html)\n",
        "2. **Display the First Ten Rows**: This will help you understand the structure and values of the dataset.\n",
        "3. **Check Data Types**: Print the data types of each feature to ensure they are numeric, which is necessary for regression analysis.\n",
        "4. **Handle Missing Values**: Check for any missing values in the dataset and handle them appropriately if any exist.\n",
        "5. **Normalize the Features**: Normalize the features to ensure all are on a similar scale, which helps in improving the performance of the regression model.\n",
        "6. **Split the Data**: Split the data into training and testing sets using a standard ratio (e.g., 95% training, 5% testing). Use sklearn's `train_test_split` function or an equivalent method ensuring a random split.\n",
        "7. **Confirm the Split**: Display the number of instances in both the training and testing datasets to confirm the split.\n",
        "\n",
        "### Main Task\n",
        "\n",
        "#### Part 1: Functions’ Implementation\n",
        "\n",
        "Implement the following functions from scratch:\n",
        "\n",
        "- **Mean Squared Error (MSE)**: Measures the average of the squares of the errors between actual and predicted values.\n",
        "- **Mean Absolute Error (MAE)**: Measures the average of the absolute errors between actual and predicted values.\n",
        "- **Root Mean Squared Error (RMSE)**: The square root of the average of the squared differences between actual and predicted values.\n",
        "- **R² Score (Coefficient of Determination)**: Measures the proportion of the variance in the dependent variable that is predictable from the independent variables.\n",
        "\n",
        "#### Part 2: Building and Training the Linear Regression Model\n",
        "\n",
        "Construct a regression model and train it using the diabetes dataset.\n",
        "\n",
        "#### Part 3: Polynomial Regression\n",
        "\n",
        "Create a polynomial regression model and evaluate its accuracy against the linear regression model.\n",
        "\n",
        "#### Part 3: Model Evaluation\n",
        "\n",
        "1. **Scatter Plot**: Compare the predicted values with the actual progression measures using a scatter plot. The x-axis represents the actual values, and the y-axis represents the predicted values.\n",
        "2. **Evaluate the Model**: Evaluate the regression model on the training and testing data using the following functions:\n",
        "   - **MSE**\n",
        "   - **MAE**\n",
        "   - **RMSE**\n",
        "   - **R² Score**\n",
        "\n",
        "Fill in the table with the calculated metrics.\n",
        "\n",
        "| Data Type/Optimizer | MSE  | MAE  | RMSE | R² Score |\n",
        "|---------------------|------|------|------|----------|\n",
        "| Train Set           |      |      |      |          |\n",
        "| Test Set            |      |      |      |          |\n"
      ]
    },
    {
      "cell_type": "code",
      "execution_count": null,
      "id": "90a2421c",
      "metadata": {
        "id": "90a2421c"
      },
      "outputs": [],
      "source": []
    }
  ],
  "metadata": {
    "kernelspec": {
      "display_name": "Python 3 (ipykernel)",
      "language": "python",
      "name": "python3"
    },
    "language_info": {
      "codemirror_mode": {
        "name": "ipython",
        "version": 3
      },
      "file_extension": ".py",
      "mimetype": "text/x-python",
      "name": "python",
      "nbconvert_exporter": "python",
      "pygments_lexer": "ipython3",
      "version": "3.11.4"
    },
    "colab": {
      "provenance": []
    }
  },
  "nbformat": 4,
  "nbformat_minor": 5
}