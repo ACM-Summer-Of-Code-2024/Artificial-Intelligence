{
 "cells": [
  {
   "cell_type": "markdown",
   "id": "9b46ff21",
   "metadata": {},
   "source": [
    "   \n",
    "<div style=\"background-image: linear-gradient(to left, rgb(255, 255, 255), rgb(138, 136, 136)); width: auto; margin: 10px;\">\n",
    "  <img src=\"https://upload.wikimedia.org/wikipedia/en/thumb/f/fd/University_of_Tehran_logo.svg/225px-University_of_Tehran_logo.svg.png\" width=100px width=auto style=\"padding:10px; vertical-align: center;\">\n",
    "\n",
    "</div>\n",
    "   \n",
    "<div   style:\"text-align: center; background-image: linear-gradient(to left, rgb(255, 255, 255), rgb( 219, 204, 245  ));width: 400px; height: 30px; \">\n",
    "<h1 style=\"font-family: Georgia; color: black; text-align: center; \">SOC AI Course </h1>\n",
    "\n",
    "</div>\n",
    "    <div   style:\"border: 3px solid green;text-align: center; \">\n",
    "<h1 style=\"font-family: Georgia; color: black; text-align: center; \">Week1- Bonus</h1>\n",
    "<h1 style=\"font-family: Georgia; color: black; text-align: center; \">Designer: Mohammad Amanlou</h1>\n",
    "\n",
    "</div>\n",
    "\n",
    "   </html>"
   ]
  },
  {
   "cell_type": "markdown",
   "id": "f3d02f89",
   "metadata": {},
   "source": [
    "### Introduction\n",
    "\n",
    "In this assignment, we will become acquainted with and implement several tools for statistical analysis. These tools can be highly beneficial for your future research and projects, as they allow you to model, simulate, and analyze complex systems where analytical or closed-form solutions are challenging or impractical.\n",
    "\n",
    "### Task\n",
    "\n",
    "#### Monte Carlo Simulation\n",
    "\n",
    "Monte Carlo Simulation is a powerful technique used to model and analyze complex systems through random sampling. This method helps in understanding the behavior of systems and processes that are difficult to solve analytically. We will explore this technique in two different scenarios: estimating the value of Pi and analyzing the Mensch game.\n",
    "\n",
    "#### Pi Calculation\n",
    "\n",
    "First, we will use Monte Carlo simulation to estimate the value of Pi (π). The approach involves generating random points within a square and determining how many of those points fall inside an inscribed circle. The steps are as follows:\n",
    "\n",
    "1. **Generate Random Points**: Randomly generate points (x, y) within a square of side length 2, centered at the origin (0,0). This means each coordinate x and y will range from -1 to 1.\n",
    "2. **Determine Points Inside the Circle**: For each generated point, check if it lies inside the circle of radius 1 centered at the origin. This can be done using the equation $(x^2 + y^2 \\leq 1)$.\n",
    "3. **Calculate Pi**: The ratio of the number of points inside the circle to the total number of points generated approximates the area of the circle relative to the square. Since the area of the square is 4 and the area of the circle is $(π \\times 1^2)$, we have $(π \\approx 4 \\times (\\text{points inside the circle} / \\text{total points}))$.\n",
    "4. **Analyze Results**: Repeat the simulation with different numbers of points to see how the estimate of Pi converges as the number of points increases.\n",
    "\n",
    "This simulation provides an intuitive way to understand the geometric probability and the concept of Monte Carlo methods.\n",
    "\n",
    "#### Mensch Game\n",
    "\n",
    "The Mensch game, known in Germany and popular in many other countries, is a classic board game. For our analysis, we will focus on a simplified version of this game where each player has only one piece, and the gameplay is purely based on rolling dice and moving the piece. The objective is to calculate the probability of winning for each player (1st, 2nd, 3rd, and 4th) using Monte Carlo Simulation. \n",
    "\n",
    "1. **Understand the Rules**: In this simplified version, each player takes turns rolling a six-sided die and moves their piece according to the number rolled. The game continues until one player successfully navigates their piece to the end of the track.\n",
    "2. **Simulate the Game**: \n",
    "    - **Initialization**: Set up the initial positions of all pieces and define the end position.\n",
    "    - **Turns and Moves**: Simulate the rolling of dice for each player's turn and update the positions of the pieces accordingly.\n",
    "    - **Winning Condition**: Check for the winning condition (i.e., a player reaching the end position).\n",
    "3. **Run Multiple Simulations**: Perform the simulation many times to gather data on the outcomes of the games.\n",
    "4. **Calculate Probabilities**: Based on the simulation data, calculate the probabilities of each player being the first to win.\n",
    "\n",
    "By performing these simulations, we can gain insights into the randomness and probability distributions inherent in games of chance.\n",
    "\n",
    "### Conclusion\n",
    "\n",
    "Through these exercises, you will gain practical experience with Monte Carlo simulations and learn how to apply them to solve real-world problems. Estimating the value of Pi and analyzing the Mensch game will help you understand the principles of statistical modeling and the power of simulation techniques in dealing with complex systems."
   ]
  }
 ],
 "metadata": {
  "kernelspec": {
   "display_name": "Python 3 (ipykernel)",
   "language": "python",
   "name": "python3"
  },
  "language_info": {
   "codemirror_mode": {
    "name": "ipython",
    "version": 3
   },
   "file_extension": ".py",
   "mimetype": "text/x-python",
   "name": "python",
   "nbconvert_exporter": "python",
   "pygments_lexer": "ipython3",
   "version": "3.11.4"
  }
 },
 "nbformat": 4,
 "nbformat_minor": 5
}
