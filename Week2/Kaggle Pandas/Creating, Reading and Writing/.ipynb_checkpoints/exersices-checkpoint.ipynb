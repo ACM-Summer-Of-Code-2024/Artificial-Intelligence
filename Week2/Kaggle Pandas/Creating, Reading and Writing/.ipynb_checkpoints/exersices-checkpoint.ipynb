{
 "cells": [
  {
   "cell_type": "markdown",
   "id": "d982aa76-5525-4d3d-8501-70741b1b56bc",
   "metadata": {},
   "source": [
    "### Exersice No.1"
   ]
  },
  {
   "cell_type": "code",
   "execution_count": 2,
   "id": "d1efd36e-1eb7-4542-982c-c787d54a4fab",
   "metadata": {},
   "outputs": [],
   "source": [
    "import pandas as pd\n"
   ]
  },
  {
   "cell_type": "code",
   "execution_count": 4,
   "id": "40bc4972-e084-4e85-a267-8dca570ffc64",
   "metadata": {},
   "outputs": [
    {
     "data": {
      "text/html": [
       "<div>\n",
       "<style scoped>\n",
       "    .dataframe tbody tr th:only-of-type {\n",
       "        vertical-align: middle;\n",
       "    }\n",
       "\n",
       "    .dataframe tbody tr th {\n",
       "        vertical-align: top;\n",
       "    }\n",
       "\n",
       "    .dataframe thead th {\n",
       "        text-align: right;\n",
       "    }\n",
       "</style>\n",
       "<table border=\"1\" class=\"dataframe\">\n",
       "  <thead>\n",
       "    <tr style=\"text-align: right;\">\n",
       "      <th></th>\n",
       "      <th>Apples</th>\n",
       "      <th>Bananas</th>\n",
       "    </tr>\n",
       "  </thead>\n",
       "  <tbody>\n",
       "    <tr>\n",
       "      <th>0</th>\n",
       "      <td>30</td>\n",
       "      <td>21</td>\n",
       "    </tr>\n",
       "  </tbody>\n",
       "</table>\n",
       "</div>"
      ],
      "text/plain": [
       "   Apples  Bananas\n",
       "0      30       21"
      ]
     },
     "execution_count": 4,
     "metadata": {},
     "output_type": "execute_result"
    }
   ],
   "source": [
    "fruits = pd.DataFrame({'Apples': [30], 'Bananas': [21]})\n",
    "fruits"
   ]
  },
  {
   "cell_type": "markdown",
   "id": "0291f788-e693-48a5-a0f8-6fa121356919",
   "metadata": {},
   "source": [
    "### Exersice No.2"
   ]
  },
  {
   "cell_type": "code",
   "execution_count": 6,
   "id": "e3e30dad-a080-491c-84d8-3bbdb80a43a4",
   "metadata": {},
   "outputs": [
    {
     "data": {
      "text/html": [
       "<div>\n",
       "<style scoped>\n",
       "    .dataframe tbody tr th:only-of-type {\n",
       "        vertical-align: middle;\n",
       "    }\n",
       "\n",
       "    .dataframe tbody tr th {\n",
       "        vertical-align: top;\n",
       "    }\n",
       "\n",
       "    .dataframe thead th {\n",
       "        text-align: right;\n",
       "    }\n",
       "</style>\n",
       "<table border=\"1\" class=\"dataframe\">\n",
       "  <thead>\n",
       "    <tr style=\"text-align: right;\">\n",
       "      <th></th>\n",
       "      <th>Apples</th>\n",
       "      <th>Bananas</th>\n",
       "    </tr>\n",
       "  </thead>\n",
       "  <tbody>\n",
       "    <tr>\n",
       "      <th>2017 Sales</th>\n",
       "      <td>35</td>\n",
       "      <td>21</td>\n",
       "    </tr>\n",
       "    <tr>\n",
       "      <th>2018 Sales</th>\n",
       "      <td>41</td>\n",
       "      <td>34</td>\n",
       "    </tr>\n",
       "  </tbody>\n",
       "</table>\n",
       "</div>"
      ],
      "text/plain": [
       "            Apples  Bananas\n",
       "2017 Sales      35       21\n",
       "2018 Sales      41       34"
      ]
     },
     "execution_count": 6,
     "metadata": {},
     "output_type": "execute_result"
    }
   ],
   "source": [
    "fruit_sales = pd.DataFrame({'Apples': [35, 41], 'Bananas': [21, 34]},index=['2017 Sales', '2018 Sales'])\n",
    "fruit_sales"
   ]
  },
  {
   "cell_type": "markdown",
   "id": "fcad9446-43b5-439b-8515-a0159ecae84b",
   "metadata": {},
   "source": [
    "### Exersice No.3"
   ]
  },
  {
   "cell_type": "code",
   "execution_count": 10,
   "id": "9a739302-e757-4ab4-8077-c3ecb6f2bc01",
   "metadata": {},
   "outputs": [
    {
     "data": {
      "text/plain": [
       "Flour     4 cups\n",
       "Milk       1 cup\n",
       "Eggs     2 large\n",
       "Spam       1 can\n",
       "Name: Dinner, dtype: object"
      ]
     },
     "execution_count": 10,
     "metadata": {},
     "output_type": "execute_result"
    }
   ],
   "source": [
    "ingredients = pd.Series(['4 cups', '1 cup' ,'2 large' ,'1 can'], index=['Flour', 'Milk' ,'Eggs' ,'Spam'] ,name='Dinner')\n",
    "ingredients"
   ]
  },
  {
   "cell_type": "markdown",
   "id": "ddc19a74-f79c-4ee7-9668-6b58823c9897",
   "metadata": {},
   "source": [
    "### Exersice No.4"
   ]
  },
  {
   "cell_type": "code",
   "execution_count": null,
   "id": "21c0b53b-b8d6-43c1-b408-5809e1ee591d",
   "metadata": {},
   "outputs": [],
   "source": [
    "reviews = pd.DataFrame(pd.read_csv('../input/wine-reviews/winemag-data_first150k.csv'))\n",
    "reviews = reviews.drop('Unnamed: 0', axis=1)\n",
    "reviews"
   ]
  },
  {
   "cell_type": "markdown",
   "id": "5bda847f-e826-425b-a2fc-c520313d96e8",
   "metadata": {},
   "source": [
    "### Exersice No.5"
   ]
  },
  {
   "cell_type": "code",
   "execution_count": 13,
   "id": "c238e16c-0709-44ca-879d-7b7425b37b23",
   "metadata": {},
   "outputs": [
    {
     "data": {
      "text/html": [
       "<div>\n",
       "<style scoped>\n",
       "    .dataframe tbody tr th:only-of-type {\n",
       "        vertical-align: middle;\n",
       "    }\n",
       "\n",
       "    .dataframe tbody tr th {\n",
       "        vertical-align: top;\n",
       "    }\n",
       "\n",
       "    .dataframe thead th {\n",
       "        text-align: right;\n",
       "    }\n",
       "</style>\n",
       "<table border=\"1\" class=\"dataframe\">\n",
       "  <thead>\n",
       "    <tr style=\"text-align: right;\">\n",
       "      <th></th>\n",
       "      <th>Cows</th>\n",
       "      <th>Goats</th>\n",
       "    </tr>\n",
       "  </thead>\n",
       "  <tbody>\n",
       "    <tr>\n",
       "      <th>Year 1</th>\n",
       "      <td>12</td>\n",
       "      <td>22</td>\n",
       "    </tr>\n",
       "    <tr>\n",
       "      <th>Year 2</th>\n",
       "      <td>20</td>\n",
       "      <td>19</td>\n",
       "    </tr>\n",
       "  </tbody>\n",
       "</table>\n",
       "</div>"
      ],
      "text/plain": [
       "        Cows  Goats\n",
       "Year 1    12     22\n",
       "Year 2    20     19"
      ]
     },
     "execution_count": 13,
     "metadata": {},
     "output_type": "execute_result"
    }
   ],
   "source": [
    "animals = pd.DataFrame({'Cows': [12, 20], 'Goats': [22, 19]}, index=['Year 1', 'Year 2'])\n",
    "animals"
   ]
  },
  {
   "cell_type": "code",
   "execution_count": 14,
   "id": "64a8e49f-4aea-433a-929e-61575a654d55",
   "metadata": {},
   "outputs": [],
   "source": [
    "animals.to_csv('cows_and_goats.csv') "
   ]
  }
 ],
 "metadata": {
  "kernelspec": {
   "display_name": "Python 3 (ipykernel)",
   "language": "python",
   "name": "python3"
  },
  "language_info": {
   "codemirror_mode": {
    "name": "ipython",
    "version": 3
   },
   "file_extension": ".py",
   "mimetype": "text/x-python",
   "name": "python",
   "nbconvert_exporter": "python",
   "pygments_lexer": "ipython3",
   "version": "3.12.4"
  }
 },
 "nbformat": 4,
 "nbformat_minor": 5
}
