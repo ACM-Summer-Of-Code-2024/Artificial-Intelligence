{
 "cells": [
  {
   "cell_type": "code",
   "execution_count": 23,
   "id": "47dceaca-15d4-4857-b061-2eb7f981e288",
   "metadata": {},
   "outputs": [],
   "source": [
    "import pandas as pd\n",
    "\n",
    "reviews = pd.read_csv(\"winemag-data-130k-v2.csv\", index_col=0)"
   ]
  },
  {
   "cell_type": "markdown",
   "id": "ee70a2bd-8d04-43a1-bd88-bde90107ab82",
   "metadata": {},
   "source": [
    "### Exersice No.1"
   ]
  },
  {
   "cell_type": "code",
   "execution_count": 24,
   "id": "3b8337ed-85cb-4864-bdcc-6aca86b7d5a8",
   "metadata": {},
   "outputs": [
    {
     "data": {
      "text/plain": [
       "dtype('int64')"
      ]
     },
     "execution_count": 24,
     "metadata": {},
     "output_type": "execute_result"
    }
   ],
   "source": [
    "dtype = reviews.points.dtype\n",
    "dtype"
   ]
  },
  {
   "cell_type": "markdown",
   "id": "4f36458a-ae7e-4cd5-8379-9118596c1e0b",
   "metadata": {},
   "source": [
    "### Exersice No.2"
   ]
  },
  {
   "cell_type": "code",
   "execution_count": 25,
   "id": "96c5b53c-7c44-4b1c-9d54-ce32db033272",
   "metadata": {},
   "outputs": [
    {
     "data": {
      "text/plain": [
       "0         87\n",
       "1         87\n",
       "2         87\n",
       "3         87\n",
       "4         87\n",
       "          ..\n",
       "129966    90\n",
       "129967    90\n",
       "129968    90\n",
       "129969    90\n",
       "129970    90\n",
       "Name: points, Length: 129971, dtype: object"
      ]
     },
     "execution_count": 25,
     "metadata": {},
     "output_type": "execute_result"
    }
   ],
   "source": [
    "point_strings = reviews.points.astype('str')\n",
    "point_strings"
   ]
  },
  {
   "cell_type": "markdown",
   "id": "1c4e6a16-dc85-478a-9b4c-e81533fd3124",
   "metadata": {},
   "source": [
    "### Exersice No.3"
   ]
  },
  {
   "cell_type": "code",
   "execution_count": 26,
   "id": "549457f7-3fb8-4490-a8b3-9c59135c7d23",
   "metadata": {},
   "outputs": [
    {
     "data": {
      "text/plain": [
       "np.int64(8996)"
      ]
     },
     "execution_count": 26,
     "metadata": {},
     "output_type": "execute_result"
    }
   ],
   "source": [
    "n_missing_prices = reviews.price.isnull().sum()\n",
    "n_missing_prices"
   ]
  },
  {
   "cell_type": "markdown",
   "id": "47704b00-a253-402d-8189-3f8fcdf17062",
   "metadata": {},
   "source": [
    "### Exersice No.4"
   ]
  },
  {
   "cell_type": "code",
   "execution_count": 28,
   "id": "50d614fe-58f0-4b4e-b789-702e5342b72a",
   "metadata": {},
   "outputs": [
    {
     "data": {
      "text/plain": [
       "region_1\n",
       "Napa Valley                             4480\n",
       "Columbia Valley (WA)                    4124\n",
       "Russian River Valley                    3091\n",
       "California                              2629\n",
       "Paso Robles                             2350\n",
       "                                        ... \n",
       "Côtes de Montravel                         1\n",
       "Côtes de Forez                             1\n",
       "Vin de Pays des Coteaux de Bessilles       1\n",
       "Vino de la Tierra de Zamora                1\n",
       "Aleatico dell'Elba                         1\n",
       "Name: count, Length: 1229, dtype: int64"
      ]
     },
     "execution_count": 28,
     "metadata": {},
     "output_type": "execute_result"
    }
   ],
   "source": [
    "reviews.region_1.fillna(\"Unknown\")\n",
    "reviews_per_region = reviews.groupby('region_1').region_1.value_counts().sort_values(ascending=False)\n",
    "reviews_per_region"
   ]
  },
  {
   "cell_type": "code",
   "execution_count": null,
   "id": "a7e9eb9a-9a1e-4a85-824b-95c83584f1b6",
   "metadata": {},
   "outputs": [],
   "source": []
  }
 ],
 "metadata": {
  "kernelspec": {
   "display_name": "Python 3 (ipykernel)",
   "language": "python",
   "name": "python3"
  },
  "language_info": {
   "codemirror_mode": {
    "name": "ipython",
    "version": 3
   },
   "file_extension": ".py",
   "mimetype": "text/x-python",
   "name": "python",
   "nbconvert_exporter": "python",
   "pygments_lexer": "ipython3",
   "version": "3.12.4"
  }
 },
 "nbformat": 4,
 "nbformat_minor": 5
}
